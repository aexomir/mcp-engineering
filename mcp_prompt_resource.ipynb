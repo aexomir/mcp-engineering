{
 "cells": [
  {
   "cell_type": "markdown",
   "metadata": {},
   "source": [
    "# Adding Prompt & Resource Features"
   ]
  },
  {
   "cell_type": "markdown",
   "metadata": {},
   "source": [
    "## Defining Resources and Prompts in the MCP Server - Optional Reading"
   ]
  },
  {
   "cell_type": "markdown",
   "metadata": {},
   "source": [
    "Feel to read this section before or after you watch the video. You can always skip and go to the end of the notebook to run the updated chatbot. "
   ]
  },
  {
   "cell_type": "markdown",
   "metadata": {},
   "source": [
    "**Resources**"
   ]
  },
  {
   "cell_type": "markdown",
   "metadata": {},
   "source": [
    "Resources are read-only data that an MCP server can expose to the LLM application. Resources are similar to GET endpoints in a REST API - they provide data but shouldn't perform significant computation or have side effects. For example, the resource can be a list of folders within a directory or the content of a file within a folder. Here, the MCP server provides two resources:\n",
    "- list of available topic folders under the papers directory;\n",
    "- the papers' information stored under a topic folder.\n",
    "\n",
    "Here's a code snippet that shows how resources are defined in the MCP server again using `FastMCP` (with the use of the decorator `@mcp.resource(uri)`). You can find the complete code in the `mcp_project` folder. The URI defined inside `@mcp.resource()` is used to uniquely identify the resource and, as a server developer, you can customize the URI. But in general, it follows this scheme:\n",
    "`sth://xyz/xcv` . In this example, two types of URI were used:\n",
    "- static URI: `papers://folders` (which represents the list of available topics)\n",
    "- dynamic URI: `papers://{topic}` (which represents the papers' information under the topic specified by the client during runtime)"
   ]
  },
  {
   "cell_type": "markdown",
   "metadata": {},
   "source": [
    "``` python\n",
    "@mcp.resource(\"papers://folders\")\n",
    "def get_available_folders() -> str:\n",
    "    \"\"\"\n",
    "    List all available topic folders in the papers directory.\n",
    "    \n",
    "    This resource provides a simple list of all available topic folders.\n",
    "    \"\"\"\n",
    "    folders = []\n",
    "    \n",
    "    # Get all topic directories\n",
    "    if os.path.exists(PAPER_DIR):\n",
    "        for topic_dir in os.listdir(PAPER_DIR):\n",
    "            topic_path = os.path.join(PAPER_DIR, topic_dir)\n",
    "            if os.path.isdir(topic_path):\n",
    "                papers_file = os.path.join(topic_path, \"papers_info.json\")\n",
    "                if os.path.exists(papers_file):\n",
    "                    folders.append(topic_dir)\n",
    "    \n",
    "    # Create a simple markdown list\n",
    "    content = \"# Available Topics\\n\\n\"\n",
    "    if folders:\n",
    "        for folder in folders:\n",
    "            content += f\"- {folder}\\n\"\n",
    "        content += f\"\\nUse @{folder} to access papers in that topic.\\n\"\n",
    "    else:\n",
    "        content += \"No topics found.\\n\"\n",
    "    \n",
    "    return content\n",
    "\n",
    "@mcp.resource(\"papers://{topic}\")\n",
    "def get_topic_papers(topic: str) -> str:\n",
    "    \"\"\"\n",
    "    Get detailed information about papers on a specific topic.\n",
    "    \n",
    "    Args:\n",
    "        topic: The research topic to retrieve papers for\n",
    "    \"\"\"\n",
    "    topic_dir = topic.lower().replace(\" \", \"_\")\n",
    "    papers_file = os.path.join(PAPER_DIR, topic_dir, \"papers_info.json\")\n",
    "    \n",
    "    if not os.path.exists(papers_file):\n",
    "        return f\"# No papers found for topic: {topic}\\n\\nTry searching for papers on this topic first.\"\n",
    "    \n",
    "    try:\n",
    "        with open(papers_file, 'r') as f:\n",
    "            papers_data = json.load(f)\n",
    "        \n",
    "        # Create markdown content with paper details\n",
    "        content = f\"# Papers on {topic.replace('_', ' ').title()}\\n\\n\"\n",
    "        content += f\"Total papers: {len(papers_data)}\\n\\n\"\n",
    "        \n",
    "        for paper_id, paper_info in papers_data.items():\n",
    "            content += f\"## {paper_info['title']}\\n\"\n",
    "            content += f\"- **Paper ID**: {paper_id}\\n\"\n",
    "            content += f\"- **Authors**: {', '.join(paper_info['authors'])}\\n\"\n",
    "            content += f\"- **Published**: {paper_info['published']}\\n\"\n",
    "            content += f\"- **PDF URL**: [{paper_info['pdf_url']}]({paper_info['pdf_url']})\\n\\n\"\n",
    "            content += f\"### Summary\\n{paper_info['summary'][:500]}...\\n\\n\"\n",
    "            content += \"---\\n\\n\"\n",
    "        \n",
    "        return content\n",
    "    except json.JSONDecodeError:\n",
    "        return f\"# Error reading papers data for {topic}\\n\\nThe papers data file is corrupted.\"\n",
    "```"
   ]
  },
  {
   "cell_type": "markdown",
   "metadata": {},
   "source": [
    "**Prompt Template**"
   ]
  },
  {
   "cell_type": "markdown",
   "metadata": {},
   "source": [
    "Server can also provide a prompt template. You can define this feature in the MCP server using the decorator `@mcp.prompt()` as shown in the code snippet below. MCP will use `generate_search_prompt` as the prompt name, infer the prompt arguments from the function's argument and the prompt's description from the doc string."
   ]
  },
  {
   "cell_type": "markdown",
   "metadata": {},
   "source": [
    "```python\n",
    "@mcp.prompt()\n",
    "def generate_search_prompt(topic: str, num_papers: int = 5) -> str:\n",
    "    \"\"\"Generate a prompt for Claude to find and discuss academic papers on a specific topic.\"\"\"\n",
    "    return f\"\"\"Search for {num_papers} academic papers about '{topic}' using the search_papers tool. Follow these instructions:\n",
    "    1. First, search for papers using search_papers(topic='{topic}', max_results={num_papers})\n",
    "    2. For each paper found, extract and organize the following information:\n",
    "       - Paper title\n",
    "       - Authors\n",
    "       - Publication date\n",
    "       - Brief summary of the key findings\n",
    "       - Main contributions or innovations\n",
    "       - Methodologies used\n",
    "       - Relevance to the topic '{topic}'\n",
    "    \n",
    "    3. Provide a comprehensive summary that includes:\n",
    "       - Overview of the current state of research in '{topic}'\n",
    "       - Common themes and trends across the papers\n",
    "       - Key research gaps or areas for future investigation\n",
    "       - Most impactful or influential papers in this area\n",
    "    \n",
    "    4. Organize your findings in a clear, structured format with headings and bullet points for easy readability.\n",
    "    \n",
    "    Please present both detailed information about each paper and a high-level synthesis of the research landscape in {topic}.\"\"\"\n",
    "```"
   ]
  },
  {
   "cell_type": "markdown",
   "metadata": {},
   "source": [
    "## Using Resources and Prompts in the MCP Chatbot - Optional Reading"
   ]
  },
  {
   "cell_type": "markdown",
   "metadata": {},
   "source": [
    "The chatbot is updated to enable users to interact with the prompt using the slash command:\n",
    "- Users can use the command `/prompts` to list the available prompts\n",
    "- Users can use the command `/prompt <name> <arg1=value1>` to invoke a particular prompt\n",
    "  \n",
    "The chatbot also enables users to interact with the resources using the `@` character:\n",
    "- Users can use the command `@folders` to see available topics\n",
    "- Users can use the command `@topic` to get papers info under that topic"
   ]
  },
  {
   "cell_type": "markdown",
   "metadata": {},
   "source": [
    "Make sure to check the updated code in the `mcp_project` folder. There's a couple of newly added methods (`get_resource`, `execute_prompt`, `list_prompts`). Here's a brief summary of the updates added to the chatbot:"
   ]
  },
  {
   "cell_type": "markdown",
   "metadata": {},
   "source": [
    "- In `connect_to_server`: the client requests from the server to list the resources and prompt templates they provide (in addition to the tools request). The resource URIs and the prompt names are stored in the MCP chatbot.\n",
    "   \n",
    "    <img src=\"images/resource_discovery.png\" width=\"400\">\n",
    "\n",
    "\n",
    "    <img src=\"images/prompt_discovery.png\" width=\"400\">\n"
   ]
  },
  {
   "cell_type": "markdown",
   "metadata": {},
   "source": [
    "- In `chat_loop`: the user's input is checked to see if the user has used any of the slash commands or @ options.\n",
    "\n",
    "- If the user types: `@folders` or `@topic` then the newly added method `get_resource` is called where the request is sent to the server.\n",
    "   \n",
    "    <img src=\"images/resource_invocation.png\" width=\"400\">"
   ]
  },
  {
   "cell_type": "markdown",
   "metadata": {},
   "source": [
    "- If the user types: `/prompts`, then the newly added method `list_prompts` is called.\n",
    "   \n",
    "- If the user types: `/prompt <name> <arg1=value1>`, then the newly added method `execute_prompt` is called where the request is sent to the server:\n",
    "   \n",
    "   <img src=\"images/prompt_invocation.png\" width=\"400\">\n",
    "   \n",
    "   and the prompt is passed to the LLM. \n",
    "- Otherwise the query is processed by the LLM."
   ]
  },
  {
   "cell_type": "markdown",
   "metadata": {},
   "source": [
    "## Running the MCP Chatbot"
   ]
  },
  {
   "cell_type": "markdown",
   "metadata": {},
   "source": [
    "Make sure to interact with the chatbot. Here are some query examples:\n",
    "- **@folders**\n",
    "- **@ai_interpretability**\n",
    "- **/prompts**\n",
    "- **/prompt generate_search_prompt topic=history num_papers=2**"
   ]
  }
 ],
 "metadata": {
  "language_info": {
   "name": "python"
  }
 },
 "nbformat": 4,
 "nbformat_minor": 2
}
